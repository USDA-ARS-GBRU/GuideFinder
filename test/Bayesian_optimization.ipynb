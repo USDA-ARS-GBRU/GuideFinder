{
 "cells": [
  {
   "cell_type": "markdown",
   "metadata": {},
   "source": [
    "## Purpose\n",
    "\n",
    "Guidefinder enables users to design RNA targets for entire genomes using any PAM and any genome. The most computatioanlly costly step of Guidefinder compares the Hamming distance of all potenial guide RNA targets in the genome to all other targets. For a typical bacterial genome and Cas9 (Protospacer ajacent Motif site NGG) this could be a (10^6 * (10^6 -1))/2 ~ 5^11 comparisons. To avoid that number of comparisons we perform approxamate nearest neighbor search using Hierarchical Navigable Small World (HNSW) graphs in the NMSlib package.  This is much faster but it requires construction of an index and selecting index and search parameters that balance index speed, search speed, and Recall.\n",
    "\n",
    "## Bayesian optimization\n",
    "\n",
    "We need to optimize the following index parameters:\n",
    "* M (int) 10-100\n",
    "* efC (int)10-1000\n",
    "* post (int) 0-2\n",
    "\n",
    "And the search parameter:\n",
    "* ec (int) 10-2000\n",
    "\n",
    "We want to minimize search time and maximize 1-NN recall\n",
    "\n",
    "To do this we will use the Python package [GPflowOpt](https://gpflowopt.readthedocs.io/en/latest/notebooks/multiobjective.html)"
   ]
  },
  {
   "cell_type": "code",
   "execution_count": 5,
   "metadata": {},
   "outputs": [],
   "source": [
    "import sys \n",
    "import time \n",
    "import math\n",
    "\n",
    "from Bio import SeqIO\n",
    "import nmslib \n",
    "from scipy.sparse import csr_matrix \n",
    "from sklearn.model_selection import train_test_split \n",
    "\n",
    "import guidefinder\n"
   ]
  },
  {
   "cell_type": "markdown",
   "metadata": {},
   "source": [
    "## Calculate the ground truth data\n",
    "\n",
    "Initially a gound truth dataset will be calculated using the brute force method."
   ]
  },
  {
   "cell_type": "code",
   "execution_count": 19,
   "metadata": {},
   "outputs": [],
   "source": [
    "pamobj = guidefinder.core.Pam(\"NGG\", \"5prime\")\n",
    "gb = SeqIO.read(\"test_data/Pseudomonas_aeruginosa_PAO1_107.sample.fasta\", \"fasta\")\n",
    "pamtargets = pamobj.find_targets(seqrecord_obj=gb, strand=\"both\", target_len=20)\n",
    "tl = guidefinder.core.TargetList(targets=pamtargets, lcp=10, hammingdist=2, knum=2)\n",
    "tl.find_unique_near_pam()\n",
    "bintargets = tl._one_hot_encode(tl.targets)\n",
    "\n",
    "index = nmslib.init(space='bit_hamming',\n",
    "                    dtype=nmslib.DistType.INT,\n",
    "                    data_type=nmslib.DataType.OBJECT_AS_STRING,\n",
    "                    method='seq_search')\n",
    "index.addDataPointBatch(bintargets)\n",
    "index.createIndex( print_progress=True)\n",
    "\n"
   ]
  },
  {
   "cell_type": "code",
   "execution_count": 35,
   "metadata": {},
   "outputs": [
    {
     "name": "stdout",
     "output_type": "stream",
     "text": [
      "brute-force kNN time total=0.598412 (sec), per query=0.000054 (sec)\n"
     ]
    }
   ],
   "source": [
    "start = time.time()\n",
    "truth_list = index.knnQueryBatch(bintargets, k=3, num_threads = 4)\n",
    "        \n",
    "end = time.time()\n",
    "\n",
    "print('brute-force kNN time total=%f (sec), per query=%f (sec)' % \n",
    "      (end-start, float(end-start)/len(bintargets)) )"
   ]
  },
  {
   "cell_type": "code",
   "execution_count": 30,
   "metadata": {},
   "outputs": [],
   "source": [
    "def recall(results, truth):\n",
    "    \"\"\"Calculate recall for top two kNN distances\n",
    "    \n",
    "    calulate recall on the top 2 distances (not labels becasue we really care that the algoritm estimates the correct \n",
    "    distance not the exact value of the neighbor and there can be multiple nieghbors with the same edit distance .)\n",
    "    \"\"\"\n",
    "    dat = zip(results, truth)\n",
    "    assert len(results) ==len(truth)\n",
    "    tot = len(results)\n",
    "    correct = 0\n",
    "    for res, tr in dat:\n",
    "        if res[1][0:1] ==tr[1][0:1]:\n",
    "            correct += 1\n",
    "    return correct/tot\n",
    "    \n",
    "    \n"
   ]
  },
  {
   "cell_type": "code",
   "execution_count": 43,
   "metadata": {},
   "outputs": [],
   "source": [
    "def test_func(truth, bintargets, M, efC, post, ef, delaunay_type=2, threads=4):\n",
    "    start = time.time()\n",
    "    index_params = {'M': M, 'indexThreadQty': threads,'efConstruction': efC, 'post': post}\n",
    "    index = nmslib.init(space='bit_hamming',\n",
    "                    dtype=nmslib.DistType.INT,\n",
    "                    data_type=nmslib.DataType.OBJECT_AS_STRING,\n",
    "                    method='hnsw')\n",
    "    index.addDataPointBatch(bintargets)\n",
    "    index.createIndex(index_params)\n",
    "    index.setQueryTimeParams({'efSearch': ef})\n",
    "    results_list = index.knnQueryBatch(bintargets, k=3, num_threads = 4)\n",
    "    end = time.time()\n",
    "    rc = recall(results_list, truth)\n",
    "    return rc, float(end-start)"
   ]
  },
  {
   "cell_type": "code",
   "execution_count": 44,
   "metadata": {},
   "outputs": [
    {
     "data": {
      "text/plain": [
       "(1.0, 1.2706491947174072)"
      ]
     },
     "execution_count": 44,
     "metadata": {},
     "output_type": "execute_result"
    }
   ],
   "source": [
    "test_func(truth=truth_list, bintargets=bintargets, M=10, efC=50, post=1, ef=200, threads=4)"
   ]
  },
  {
   "cell_type": "code",
   "execution_count": null,
   "metadata": {},
   "outputs": [],
   "source": []
  }
 ],
 "metadata": {
  "kernelspec": {
   "display_name": "guidefinderenv",
   "language": "python",
   "name": "guidefinderenv"
  },
  "language_info": {
   "codemirror_mode": {
    "name": "ipython",
    "version": 3
   },
   "file_extension": ".py",
   "mimetype": "text/x-python",
   "name": "python",
   "nbconvert_exporter": "python",
   "pygments_lexer": "ipython3",
   "version": "3.7.7"
  }
 },
 "nbformat": 4,
 "nbformat_minor": 4
}
